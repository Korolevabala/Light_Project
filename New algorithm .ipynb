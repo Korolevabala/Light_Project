{
 "cells": [
  {
   "cell_type": "code",
   "execution_count": 53,
   "metadata": {},
   "outputs": [],
   "source": [
    "from datetime import datetime, timedelta\n",
    "import matplotlib.pyplot as plt\n",
    "import pandas as pd\n",
    "import numpy as np\n",
    "from pandas.plotting import register_matplotlib_converters\n",
    "register_matplotlib_converters()\n",
    "import time\n",
    "import struct\n",
    "import os"
   ]
  },
  {
   "cell_type": "code",
   "execution_count": 54,
   "metadata": {},
   "outputs": [],
   "source": [
    "dataEURUSD = pd.read_csv('EURUSD.csv', sep = ',')\n",
    "dataGBPUSD = pd.read_csv('GBPUSD.csv', sep = ',')"
   ]
  },
  {
   "cell_type": "code",
   "execution_count": 55,
   "metadata": {},
   "outputs": [],
   "source": [
    "def ticks_to_df(gbprub_ticks,eurrub_ticks):\n",
    "    #Переведем имеющиеся у нас данные в DataFrame\n",
    "    gbprub_ticks_frame = pd.DataFrame(gbprub_ticks)\n",
    "    eurrub_ticks_frame = pd.DataFrame(eurrub_ticks)\n",
    "    #Удалим ненужные столбцы\n",
    "    gbprub_ticks_frame.drop('<TICKER>', axis = 1, inplace = True)\n",
    "    gbprub_ticks_frame.drop('<PER>', axis = 1, inplace = True)\n",
    "    gbprub_ticks_frame.drop('<VOL>', axis = 1, inplace = True)\n",
    "\n",
    "    eurrub_ticks_frame.drop('<TICKER>', axis = 1, inplace = True)\n",
    "    eurrub_ticks_frame.drop('<PER>', axis = 1, inplace = True)\n",
    "    eurrub_ticks_frame.drop('<VOL>', axis = 1, inplace = True)\n",
    "    \n",
    "    return gbprub_ticks_frame, eurrub_ticks_frame "
   ]
  },
  {
   "cell_type": "code",
   "execution_count": 56,
   "metadata": {},
   "outputs": [],
   "source": [
    "gbprub_ticks_frame,eurrub_ticks_frame = ticks_to_df(dataGBPUSD,dataEURUSD)\n",
    "spread = gbprub_ticks_frame['<CLOSE>'] - eurrub_ticks_frame['<CLOSE>']"
   ]
  },
  {
   "cell_type": "code",
   "execution_count": 64,
   "metadata": {},
   "outputs": [
    {
     "data": {
      "text/plain": [
       "0.13165000000000004"
      ]
     },
     "execution_count": 64,
     "metadata": {},
     "output_type": "execute_result"
    }
   ],
   "source": [
    "spread = np.array(spread)\n",
    "spread = spread[~np.isnan(spread)]\n",
    "median = np.median(spread)\n",
    "Open_up = list()\n",
    "Open_down = list()\n",
    "Open_UP =0\n",
    "Open_DOWN = 0\n",
    "median"
   ]
  },
  {
   "cell_type": "code",
   "execution_count": 72,
   "metadata": {},
   "outputs": [],
   "source": [
    "for i in range(0,len(spread)):\n",
    "    if spread[i] > median:\n",
    "        Open_up.append(spread[i])\n",
    "    if spread[i] < median:\n",
    "        Open_down.append(spread[i])\n",
    "Open_UP =np.median(Open_up)\n",
    "Open_DOWN = np.median(Open_down)\n",
    "Open_UP =str(Open_UP)\n",
    "Open_DOWN = str(Open_DOWN)\n",
    "median = str(median)\n",
    "#         spread.drop([i], inplace=True)"
   ]
  },
  {
   "cell_type": "code",
   "execution_count": 73,
   "metadata": {},
   "outputs": [],
   "source": [
    "file_obj = open('Open_Close_Values.txt', 'a') # Файл в который мы запишем результаты\n",
    "file_obj.write(Open_UP)\n",
    "file_obj.write('\\n')\n",
    "file_obj.write(Open_DOWN)\n",
    "file_obj.write('\\n')\n",
    "file_obj.write(median)\n",
    "file_obj.close()"
   ]
  },
  {
   "cell_type": "markdown",
   "metadata": {},
   "source": [
    "# Ненежный код - мусор фууу"
   ]
  },
  {
   "cell_type": "code",
   "execution_count": 13,
   "metadata": {},
   "outputs": [
    {
     "name": "stdout",
     "output_type": "stream",
     "text": [
      "median:      0.13165000000000004 \n",
      "max spread:  0.22514000000000012 \n",
      "min_spread:  0.05577999999999994\n",
      "SellGBPUSD_BuyEURUSD: 0.19709300000000007\n",
      "BuyGBPUSD_SellEURUSD: 0.07854099999999997\n"
     ]
    }
   ],
   "source": [
    "max_spread = max(spread)\n",
    "min_spread = min(spread)\n",
    "#Найдём медиану\n",
    "spread = np.array(spread)\n",
    "median = np.median(spread)\n",
    "print('median:     ',median,\n",
    "    '\\nmax spread: ', max_spread,\n",
    "    '\\nmin_spread: ',min_spread)\n",
    "SellGBPUSD_BuyEURUSD = median + (max_spread - median) * 0.7\n",
    "print('SellGBPUSD_BuyEURUSD:', SellGBPUSD_BuyEURUSD)\n",
    "BuyGBPUSD_SellEURUSD = median + (min_spread - median) * 0.7\n",
    "print('BuyGBPUSD_SellEURUSD:', BuyGBPUSD_SellEURUSD)"
   ]
  },
  {
   "cell_type": "code",
   "execution_count": 62,
   "metadata": {},
   "outputs": [
    {
     "data": {
      "text/plain": [
       "[<matplotlib.lines.Line2D at 0x27d46cf2730>]"
      ]
     },
     "execution_count": 62,
     "metadata": {},
     "output_type": "execute_result"
    },
    {
     "data": {
      "image/png": "[encoded data removed]",
      "text/plain": [
       "<Figure size 432x288 with 1 Axes>"
      ]
     },
     "metadata": {
      "needs_background": "light"
     },
     "output_type": "display_data"
    }
   ],
   "source": [
    "plt.plot(spread)\n",
    "plt.plot(SellGBPUSD_BuyEURUSD)\n",
    "plt.plot(BuyGBPUSD_SellEURUSD)"
   ]
  },
  {
   "cell_type": "code",
   "execution_count": 8,
   "metadata": {},
   "outputs": [
    {
     "data": {
      "text/html": [
       "<div>\n",
       "<style scoped>\n",
       "    .dataframe tbody tr th:only-of-type {\n",
       "        vertical-align: middle;\n",
       "    }\n",
       "\n",
       "    .dataframe tbody tr th {\n",
       "        vertical-align: top;\n",
       "    }\n",
       "\n",
       "    .dataframe thead th {\n",
       "        text-align: right;\n",
       "    }\n",
       "</style>\n",
       "<table border=\"1\" class=\"dataframe\">\n",
       "  <thead>\n",
       "    <tr style=\"text-align: right;\">\n",
       "      <th></th>\n",
       "      <th>&lt;TICKER&gt;</th>\n",
       "      <th>&lt;PER&gt;</th>\n",
       "      <th>&lt;DATE&gt;</th>\n",
       "      <th>&lt;TIME&gt;</th>\n",
       "      <th>&lt;CLOSE&gt;</th>\n",
       "      <th>&lt;VOL&gt;</th>\n",
       "    </tr>\n",
       "  </thead>\n",
       "  <tbody>\n",
       "    <tr>\n",
       "      <th>0</th>\n",
       "      <td>EURUSD</td>\n",
       "      <td>10</td>\n",
       "      <td>20200201</td>\n",
       "      <td>1000</td>\n",
       "      <td>1.10907</td>\n",
       "      <td>7221</td>\n",
       "    </tr>\n",
       "    <tr>\n",
       "      <th>1</th>\n",
       "      <td>EURUSD</td>\n",
       "      <td>10</td>\n",
       "      <td>20200201</td>\n",
       "      <td>2000</td>\n",
       "      <td>1.10901</td>\n",
       "      <td>6219</td>\n",
       "    </tr>\n",
       "    <tr>\n",
       "      <th>2</th>\n",
       "      <td>EURUSD</td>\n",
       "      <td>10</td>\n",
       "      <td>20200201</td>\n",
       "      <td>3000</td>\n",
       "      <td>1.10931</td>\n",
       "      <td>5629</td>\n",
       "    </tr>\n",
       "    <tr>\n",
       "      <th>3</th>\n",
       "      <td>EURUSD</td>\n",
       "      <td>10</td>\n",
       "      <td>20200201</td>\n",
       "      <td>4000</td>\n",
       "      <td>1.10942</td>\n",
       "      <td>3171</td>\n",
       "    </tr>\n",
       "    <tr>\n",
       "      <th>4</th>\n",
       "      <td>EURUSD</td>\n",
       "      <td>10</td>\n",
       "      <td>20200201</td>\n",
       "      <td>5000</td>\n",
       "      <td>1.10945</td>\n",
       "      <td>7011</td>\n",
       "    </tr>\n",
       "  </tbody>\n",
       "</table>\n",
       "</div>"
      ],
      "text/plain": [
       "  <TICKER>  <PER>    <DATE>  <TIME>  <CLOSE>  <VOL>\n",
       "0   EURUSD     10  20200201    1000  1.10907   7221\n",
       "1   EURUSD     10  20200201    2000  1.10901   6219\n",
       "2   EURUSD     10  20200201    3000  1.10931   5629\n",
       "3   EURUSD     10  20200201    4000  1.10942   3171\n",
       "4   EURUSD     10  20200201    5000  1.10945   7011"
      ]
     },
     "execution_count": 8,
     "metadata": {},
     "output_type": "execute_result"
    }
   ],
   "source": [
    "dataEURUSD.head(5)"
   ]
  },
  {
   "cell_type": "code",
   "execution_count": 12,
   "metadata": {},
   "outputs": [
    {
     "data": {
      "text/plain": [
       "38371"
      ]
     },
     "execution_count": 12,
     "metadata": {},
     "output_type": "execute_result"
    }
   ],
   "source": [
    "len(spread)"
   ]
  },
  {
   "cell_type": "code",
   "execution_count": 10,
   "metadata": {},
   "outputs": [
    {
     "data": {
      "text/plain": [
       "array([0.21103, 0.21119, 0.21089, ..., 0.16437, 0.16444, 0.16458])"
      ]
     },
     "execution_count": 10,
     "metadata": {},
     "output_type": "execute_result"
    }
   ],
   "source": [
    "spread"
   ]
  }
 ],
 "metadata": {
  "kernelspec": {
   "display_name": "Python 3",
   "language": "python",
   "name": "python3"
  },
  "language_info": {
   "codemirror_mode": {
    "name": "ipython",
    "version": 3
   },
   "file_extension": ".py",
   "mimetype": "text/x-python",
   "name": "python",
   "nbconvert_exporter": "python",
   "pygments_lexer": "ipython3",
   "version": "3.8.3"
  }
 },
 "nbformat": 4,
 "nbformat_minor": 4
}
